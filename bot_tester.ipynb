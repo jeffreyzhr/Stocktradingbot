{
 "cells": [
  {
   "cell_type": "code",
   "execution_count": 32,
   "metadata": {},
   "outputs": [],
   "source": [
    "import pandas as pd\n",
    "import numpy as np\n",
    "import pickle\n",
    "import data\n",
    "ticker = 'AAPL'\n",
    "input_data = []"
   ]
  },
  {
   "cell_type": "code",
   "execution_count": 8,
   "metadata": {},
   "outputs": [],
   "source": [
    "with open(f'data/{ticker}.pkl', 'rb') as f:\n",
    "    current = pickle.load(f)"
   ]
  },
  {
   "cell_type": "code",
   "execution_count": 51,
   "metadata": {},
   "outputs": [
    {
     "name": "stdout",
     "output_type": "stream",
     "text": [
      "{2018: 59531000000, 2019: 55256000000, 2020: 57411000000, 2021: 94680000000, 2022: 99633000000}\n",
      "{2018: 19821508000, 2019: 18471336000, 2020: 17352119000, 2021: 16701272000, 2022: 16070800384}\n"
     ]
    },
    {
     "data": {
      "text/plain": [
       "112122788.8888889"
      ]
     },
     "execution_count": 51,
     "metadata": {},
     "output_type": "execute_result"
    }
   ],
   "source": [
    "a = current[f'{ticker} Annual EPS']\n",
    "\n",
    "\n",
    "b = current[f'{ticker} Annual Earnings']\n",
    "print(b)\n",
    "\n",
    "c = current[f'{ticker} Annual Outstanding Shares']\n",
    "print(c)\n",
    "\n",
    "d = current[f'{ticker} Annual PE ratio'] #everyday rather than annually\n",
    "\n",
    "e = current[f'{ticker} Yearly Hist values'] #everyday rather than annually\n",
    "\n",
    "np.mean(e[2019]['Volume'].to_list())\n",
    "\n"
   ]
  },
  {
   "cell_type": "code",
   "execution_count": 61,
   "metadata": {},
   "outputs": [],
   "source": [
    "def collate_annual_data(current):\n",
    "    \n",
    "    a = current[f'{ticker} Annual EPS']\n",
    "    b = current[f'{ticker} Annual Earnings']\n",
    "    c = current[f'{ticker} Annual Outstanding Shares']\n",
    "    d = current[f'{ticker} Annual PE ratio']\n",
    "    e = current[f'{ticker} Yearly Hist values']\n",
    "    \n",
    "    for year in a.keys():\n",
    "        to_add = []\n",
    "        to_add.append(a[year])\n",
    "        to_add.append(b[year])\n",
    "        to_add.append(c[year])\n",
    "        to_add.append(np.mean(d[year]))\n",
    "        to_add.append(np.mean(e[year]['Volume'].to_list())) #added avg volume as a data point\n",
    "        input_data.append(to_add)\n",
    "        \n",
    "        \n",
    "        \n",
    "    \n"
   ]
  },
  {
   "cell_type": "code",
   "execution_count": null,
   "metadata": {},
   "outputs": [],
   "source": [
    "def get_labels(current):\n",
    "    "
   ]
  },
  {
   "cell_type": "code",
   "execution_count": 62,
   "metadata": {},
   "outputs": [],
   "source": [
    "collate_annual_data(current)"
   ]
  },
  {
   "cell_type": "code",
   "execution_count": 63,
   "metadata": {},
   "outputs": [
    {
     "data": {
      "text/plain": [
       "(10, 5)"
      ]
     },
     "execution_count": 63,
     "metadata": {},
     "output_type": "execute_result"
    }
   ],
   "source": [
    "input_array = np.array(input_data)\n",
    "input_array.shape"
   ]
  },
  {
   "cell_type": "code",
   "execution_count": null,
   "metadata": {},
   "outputs": [],
   "source": []
  }
 ],
 "metadata": {
  "kernelspec": {
   "display_name": "Python 3.8.3 64-bit",
   "language": "python",
   "name": "python3"
  },
  "language_info": {
   "codemirror_mode": {
    "name": "ipython",
    "version": 3
   },
   "file_extension": ".py",
   "mimetype": "text/x-python",
   "name": "python",
   "nbconvert_exporter": "python",
   "pygments_lexer": "ipython3",
   "version": "3.8.3"
  },
  "orig_nbformat": 4,
  "vscode": {
   "interpreter": {
    "hash": "aee8b7b246df8f9039afb4144a1f6fd8d2ca17a180786b69acc140d282b71a49"
   }
  }
 },
 "nbformat": 4,
 "nbformat_minor": 2
}
